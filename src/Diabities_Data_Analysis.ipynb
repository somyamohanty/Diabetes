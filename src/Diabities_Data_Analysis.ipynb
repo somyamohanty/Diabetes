{
 "cells": [
  {
   "cell_type": "code",
   "execution_count": 2,
   "metadata": {
    "collapsed": true
   },
   "outputs": [],
   "source": [
    "import tensorflow as tf\n",
    "import csv\n",
    "from sklearn.model_selection import train_test_split\n",
    "from sklearn import preprocessing\n",
    "import numpy as np\n",
    "import pandas as pd\n",
    "from sklearn.metrics import roc_curve, auc\n",
    "import matplotlib.pyplot as plt\n",
    "from sklearn.metrics import f1_score, accuracy_score, precision_score, recall_score\n",
    "from sklearn.metrics import confusion_matrix\n",
    "from sklearn.preprocessing import label_binarize"
   ]
  },
  {
   "cell_type": "code",
   "execution_count": 3,
   "metadata": {
    "collapsed": true
   },
   "outputs": [],
   "source": [
    "%matplotlib inline"
   ]
  },
  {
   "cell_type": "markdown",
   "metadata": {},
   "source": [
    "### Reading the CSV file and cleaning\n",
    "\n",
    "feature dataframe has the features read except for the first (seq_num) and the last column (label)\n",
    "The dataframe also drop the Glucose column and replaces all NaN values and 7,9 (in labels) to 0\n",
    "\n",
    "Features were also normalized - (features - features.mean())/features.std()"
   ]
  },
  {
   "cell_type": "code",
   "execution_count": 6,
   "metadata": {
    "scrolled": true
   },
   "outputs": [
    {
     "name": "stdout",
     "output_type": "stream",
     "text": [
      "\n",
      "\n",
      "['GENDER', 'AGE', 'WIEGHT', 'HIEGHT', 'BMI', 'Waist', 'Race_ethinicity', 'Physical_activity', 'Diabetes']\n",
      "\n",
      "\n",
      "Unclean label counts:\n",
      "Diabetes\n",
      "0.0        7\n",
      "1.0     1576\n",
      "2.0    27798\n",
      "3.0      214\n",
      "7.0        1\n",
      "9.0       12\n",
      "dtype: int64\n",
      "\n",
      "\n",
      "Cleaned label counts:\n",
      "Diabetes\n",
      "1.0     1455\n",
      "2.0    25361\n",
      "3.0      201\n",
      "dtype: int64\n",
      "\n",
      "\n",
      "Columns in the features\n",
      "['GENDER', 'AGE', 'WIEGHT', 'HIEGHT', 'BMI', 'Waist', 'Race_ethinicity', 'Physical_activity']\n"
     ]
    }
   ],
   "source": [
    "df = pd.read_csv('../Data/Dataset_v3.csv')\n",
    "\n",
    "\n",
    "#Dropped Glucose\n",
    "df = df.drop('Glucose', 1)\n",
    "\n",
    "#Dropped SEQN\n",
    "df = df.drop('SEQN', 1)\n",
    "\n",
    "print \"\\n\"\n",
    "column_names = list(df)\n",
    "print column_names\n",
    "\n",
    "print \"\\n\"\n",
    "print \"Unclean label counts:\"\n",
    "print df.groupby('Diabetes').size()\n",
    "\n",
    "# data cleanup removing rows which have 0,7,9,NaN in the label\n",
    "df = df[df.Diabetes != 0]\n",
    "df = df[df.Diabetes != 7]\n",
    "df = df[df.Diabetes != 9]\n",
    "df = df[np.isfinite(df['Diabetes'])]\n",
    "\n",
    "# dropping all NaN in the dataframe with 0\n",
    "df.dropna(inplace=True)\n",
    "\n",
    "print \"\\n\"\n",
    "print \"Cleaned label counts:\"\n",
    "print df.groupby('Diabetes').size()\n",
    "\n",
    "\n",
    "#separating features and labels\n",
    "features = df.iloc[:, 0:-1]\n",
    "label = df.iloc[:,-1]\n",
    "\n",
    "print \"\\n\"\n",
    "print \"Columns in the features\"\n",
    "column_names = list(features)\n",
    "print column_names\n",
    "\n",
    "#normalizing features - unnormalized also results in similar results\n",
    "normalized_features = (features - features.mean())/features.std()"
   ]
  },
  {
   "cell_type": "markdown",
   "metadata": {},
   "source": [
    "### Formatting input for Machine Learning"
   ]
  },
  {
   "cell_type": "code",
   "execution_count": 7,
   "metadata": {},
   "outputs": [
    {
     "name": "stdout",
     "output_type": "stream",
     "text": [
      "Shape of the matrices\n",
      "(27017, 8)\n",
      "(27017,)\n",
      "\n",
      "\n",
      "Total unique counts by labels\n",
      "(array([ 1.,  2.,  3.]), array([ 1455, 25361,   201]))\n",
      "\n",
      "\n",
      "Total unique counts by labels for training and testing\n",
      "(18911, 'train sequences')\n",
      "(8106, 'test sequences')\n",
      "(array([ 1.,  2.,  3.]), array([ 1012, 17754,   145]))\n",
      "(array([ 1.,  2.,  3.]), array([ 443, 7607,   56]))\n"
     ]
    }
   ],
   "source": [
    "# X = features.as_matrix()\n",
    "X = normalized_features.as_matrix()\n",
    "\n",
    "# lb = preprocessing.LabelBinarizer()\n",
    "# Y = lb.fit_transform(label.as_matrix())\n",
    "Y = label.as_matrix()\n",
    "\n",
    "print \"Shape of the matrices\"\n",
    "print X.shape\n",
    "print Y.shape\n",
    "\n",
    "print \"\\n\"\n",
    "print \"Total unique counts by labels\"\n",
    "print np.unique(Y, return_counts=True)\n",
    "\n",
    "# Y = label_binarize(Y, classes=[1, 2, 3])\n",
    "\n",
    "# 70% training and 30% test \n",
    "x_train, x_test, y_train, y_test = train_test_split(X, Y, test_size=0.3, random_state=42)\n",
    "\n",
    "print \"\\n\"\n",
    "print \"Total unique counts by labels for training and testing\"\n",
    "print(len(x_train), 'train sequences')\n",
    "print(len(x_test), 'test sequences')\n",
    "\n",
    "print np.unique(y_train, return_counts=True)\n",
    "print np.unique(y_test, return_counts=True)"
   ]
  },
  {
   "cell_type": "markdown",
   "metadata": {},
   "source": [
    "#### Comparision with Decision Trees and Random Forest \n",
    "RF number of trees - 50\n"
   ]
  },
  {
   "cell_type": "code",
   "execution_count": 8,
   "metadata": {},
   "outputs": [
    {
     "name": "stdout",
     "output_type": "stream",
     "text": [
      "Decision Tree\n",
      "              precision    recall  f1-score   support\n",
      "\n",
      "    Daibetic       0.22      0.24      0.23       443\n",
      "      Normal       0.95      0.94      0.95      7607\n",
      "Pre-Diabetic       0.00      0.00      0.00        56\n",
      "\n",
      " avg / total       0.90      0.90      0.90      8106\n",
      "\n",
      "Confusion matrix, without normalization\n",
      "[[ 108  323   12]\n",
      " [ 373 7175   59]\n",
      " [  10   46    0]]\n",
      "\n",
      "\n",
      "Overall Accuracy figures - Biased by Normal as shown above and below by confusion matrix\n",
      "Accuracy:  0.898470268937\n",
      "Precision:  0.904559638966\n",
      "Recall:  0.898470268937\n"
     ]
    },
    {
     "data": {
      "image/png": "[encoded data removed]",
      "text/plain": [
       "<matplotlib.figure.Figure at 0x111600650>"
      ]
     },
     "metadata": {},
     "output_type": "display_data"
    }
   ],
   "source": [
    "import itertools\n",
    "from sklearn import tree, linear_model\n",
    "from sklearn.ensemble import RandomForestClassifier\n",
    "from sklearn.metrics import classification_report\n",
    "# These are the tuned paramters\n",
    "\n",
    "def plot_confusion_matrix(cm, classes,\n",
    "                          normalize=False,\n",
    "                          title='Confusion matrix',\n",
    "                          cmap=plt.cm.Blues):\n",
    "    \"\"\"\n",
    "    This function prints and plots the confusion matrix.\n",
    "    Normalization can be applied by setting `normalize=True`.\n",
    "    \"\"\"\n",
    "    plt.imshow(cm, interpolation='nearest', cmap=cmap)\n",
    "    plt.title(title)\n",
    "    plt.colorbar()\n",
    "    tick_marks = np.arange(len(classes))\n",
    "    plt.xticks(tick_marks, classes, rotation=45)\n",
    "    plt.yticks(tick_marks, classes)\n",
    "\n",
    "    if normalize:\n",
    "        cm = cm.astype('float') / cm.sum(axis=1)[:, np.newaxis]\n",
    "        print(\"Normalized confusion matrix\")\n",
    "    else:\n",
    "        print('Confusion matrix, without normalization')\n",
    "\n",
    "    print(cm)\n",
    "\n",
    "    thresh = cm.max() / 2.\n",
    "    for i, j in itertools.product(range(cm.shape[0]), range(cm.shape[1])):\n",
    "        plt.text(j, i, cm[i, j],\n",
    "                 horizontalalignment=\"center\",\n",
    "                 color=\"white\" if cm[i, j] > thresh else \"black\")\n",
    "\n",
    "    plt.tight_layout()\n",
    "    plt.ylabel('True label')\n",
    "    plt.xlabel('Predicted label')\n",
    "\n",
    "def decision_tree(feat_train, feat_test, label_train, label_test):\n",
    "    clf = tree.DecisionTreeClassifier(class_weight=None,\n",
    "                                      criterion='gini', splitter='best')\n",
    "    clf.fit(feat_train, label_train)\n",
    "    predicted_labels = clf.predict(feat_test)\n",
    "    label_test = np.array(label_test)\n",
    "    result = {}\n",
    "    result['recall'] = recall_score(label_test, predicted_labels,\n",
    "                                    average='weighted')\n",
    "    result['accuracy'] = accuracy_score(label_test, predicted_labels)\n",
    "    result['precision'] = precision_score(label_test, predicted_labels,\n",
    "                                          average='weighted')\n",
    "    \n",
    "    target_names = ['Daibetic', 'Normal', 'Pre-Diabetic']\n",
    "    \n",
    "    print(classification_report(label_test, predicted_labels, target_names=target_names))\n",
    "    \n",
    "    cnf_matrix = confusion_matrix(label_test, predicted_labels)\n",
    "    plot_confusion_matrix(cnf_matrix, classes=target_names, title='Confusion matrix, without normalization')\n",
    "    \n",
    "    return result['accuracy'], result['precision'], result['recall']\n",
    "\n",
    "print('Decision Tree')\n",
    "accuracy,precision,recall = decision_tree(x_train, x_test, y_train, y_test)\n",
    "print \"\\n\"\n",
    "print \"Overall Accuracy figures - Biased by Normal as shown above and below by confusion matrix\"\n",
    "print \"Accuracy: \", accuracy\n",
    "print \"Precision: \", precision\n",
    "print \"Recall: \", recall\n"
   ]
  },
  {
   "cell_type": "code",
   "execution_count": 9,
   "metadata": {},
   "outputs": [
    {
     "name": "stdout",
     "output_type": "stream",
     "text": [
      "Random forest\n"
     ]
    },
    {
     "name": "stderr",
     "output_type": "stream",
     "text": [
      "/Users/somya/.virtualenvs/ml/lib/python2.7/site-packages/sklearn/metrics/classification.py:1113: UndefinedMetricWarning: Precision is ill-defined and being set to 0.0 in labels with no predicted samples.\n",
      "  'precision', 'predicted', average, warn_for)\n",
      "/Users/somya/.virtualenvs/ml/lib/python2.7/site-packages/sklearn/metrics/classification.py:1113: UndefinedMetricWarning: Precision and F-score are ill-defined and being set to 0.0 in labels with no predicted samples.\n",
      "  'precision', 'predicted', average, warn_for)\n"
     ]
    },
    {
     "name": "stdout",
     "output_type": "stream",
     "text": [
      "              precision    recall  f1-score   support\n",
      "\n",
      "    Daibetic       0.26      0.05      0.08       443\n",
      "      Normal       0.94      0.99      0.97      7607\n",
      "Pre-Diabetic       0.00      0.00      0.00        56\n",
      "\n",
      " avg / total       0.90      0.93      0.91      8106\n",
      "\n",
      "Confusion matrix, without normalization\n",
      "[[  21  422    0]\n",
      " [  59 7548    0]\n",
      " [   0   56    0]]\n",
      "\n",
      "\n",
      "Overall Accuracy figures - Biased by Normal as shown above and below by confusion matrix\n",
      "Accuracy:  0.933752775722\n",
      "Precision:  0.896896329758\n",
      "Recall:  0.933752775722\n"
     ]
    },
    {
     "data": {
      "image/png": "[encoded data removed]",
      "text/plain": [
       "<matplotlib.figure.Figure at 0x1120dd5d0>"
      ]
     },
     "metadata": {},
     "output_type": "display_data"
    }
   ],
   "source": [
    "def random_forest(feat_train, feat_test, label_train, label_test):\n",
    "    clf = RandomForestClassifier(n_estimators=50)\n",
    "\n",
    "    clf.fit(feat_train, label_train)\n",
    "    predicted_labels = clf.predict(feat_test)\n",
    "    label_test = np.array(label_test)\n",
    "    result = {}\n",
    "    result['recall'] = recall_score(label_test, predicted_labels,\n",
    "                                    average='weighted')\n",
    "    result['accuracy'] = accuracy_score(label_test, predicted_labels)\n",
    "    result['precision'] = precision_score(label_test, predicted_labels,\n",
    "                                          average='weighted')\n",
    "    target_names = ['Daibetic', 'Normal', 'Pre-Diabetic']\n",
    "    \n",
    "    print(classification_report(label_test, predicted_labels, target_names=target_names))\n",
    "    \n",
    "    cnf_matrix = confusion_matrix(label_test, predicted_labels)\n",
    "    plot_confusion_matrix(cnf_matrix, classes=target_names, title='Confusion matrix, without normalization')\n",
    "    \n",
    "    return result['accuracy'], result['precision'], result['recall']\n",
    "\n",
    "print(\"Random forest\")\n",
    "accuracy,precision,recall = random_forest(x_train, x_test, y_train, y_test)\n",
    "print \"\\n\"\n",
    "print \"Overall Accuracy figures - Biased by Normal as shown above and below by confusion matrix\"\n",
    "print \"Accuracy: \", accuracy\n",
    "print \"Precision: \", precision\n",
    "print \"Recall: \", recall\n"
   ]
  },
  {
   "cell_type": "code",
   "execution_count": 10,
   "metadata": {},
   "outputs": [
    {
     "name": "stdout",
     "output_type": "stream",
     "text": [
      "Logistic Regression\n",
      "              precision    recall  f1-score   support\n",
      "\n",
      "    Daibetic       0.29      0.00      0.01       443\n",
      "      Normal       0.94      1.00      0.97      7607\n",
      "Pre-Diabetic       0.00      0.00      0.00        56\n",
      "\n",
      " avg / total       0.90      0.94      0.91      8106\n",
      "\n",
      "Confusion matrix, without normalization\n",
      "[[   2  441    0]\n",
      " [   5 7602    0]\n",
      " [   0   56    0]]\n",
      "\n",
      "\n",
      "Overall Accuracy figures - Biased by Normal as shown above and below by confusion matrix\n",
      "Accuracy:  0.938070565014\n",
      "Precision:  0.896467222318\n",
      "Recall:  0.938070565014\n"
     ]
    },
    {
     "data": {
      "image/png": "[encoded data removed]",
      "text/plain": [
       "<matplotlib.figure.Figure at 0x1120c1990>"
      ]
     },
     "metadata": {},
     "output_type": "display_data"
    }
   ],
   "source": [
    "def log_reg(feat_train, feat_test, label_train, label_test):\n",
    "    clf = linear_model.LogisticRegression()\n",
    "    clf.fit(feat_train, label_train)\n",
    "    predicted_labels = clf.predict(feat_test)\n",
    "    label_test = np.array(label_test)\n",
    "    result = {}\n",
    "    result['recall'] = recall_score(label_test, predicted_labels,\n",
    "                                    average='weighted')\n",
    "    result['accuracy'] = accuracy_score(label_test, predicted_labels)\n",
    "    result['precision'] = precision_score(label_test, predicted_labels,\n",
    "                                          average='weighted')\n",
    "    \n",
    "    target_names = ['Daibetic', 'Normal', 'Pre-Diabetic']\n",
    "    \n",
    "    print(classification_report(label_test, predicted_labels, target_names=target_names))\n",
    "    \n",
    "    cnf_matrix = confusion_matrix(label_test, predicted_labels)\n",
    "    plot_confusion_matrix(cnf_matrix, classes=target_names, title='Confusion matrix, without normalization')\n",
    "    \n",
    "    return result['accuracy'], result['precision'], result['recall']\n",
    "\n",
    "print('Logistic Regression')\n",
    "accuracy,precision,recall = log_reg(x_train, x_test, y_train, y_test)\n",
    "print \"\\n\"\n",
    "print \"Overall Accuracy figures - Biased by Normal as shown above and below by confusion matrix\"\n",
    "print \"Accuracy: \", accuracy\n",
    "print \"Precision: \", precision\n",
    "print \"Recall: \", recall\n"
   ]
  },
  {
   "cell_type": "code",
   "execution_count": 11,
   "metadata": {},
   "outputs": [
    {
     "name": "stdout",
     "output_type": "stream",
     "text": [
      "SVM\n",
      "              precision    recall  f1-score   support\n",
      "\n",
      "    Daibetic       0.00      0.00      0.00       443\n",
      "      Normal       0.94      1.00      0.97      7607\n",
      "Pre-Diabetic       0.00      0.00      0.00        56\n",
      "\n",
      " avg / total       0.88      0.94      0.91      8106\n",
      "\n",
      "Confusion matrix, without normalization\n",
      "[[   0  443    0]\n",
      " [   0 7607    0]\n",
      " [   0   56    0]]\n",
      "\n",
      "\n",
      "Overall Accuracy figures - Biased by Normal as shown above and below by confusion matrix\n",
      "Accuracy:  0.938440661239\n",
      "Precision:  0.880670874666\n",
      "Recall:  0.938440661239\n"
     ]
    },
    {
     "data": {
      "image/png": "[encoded data removed]",
      "text/plain": [
       "<matplotlib.figure.Figure at 0x11045efd0>"
      ]
     },
     "metadata": {},
     "output_type": "display_data"
    }
   ],
   "source": [
    "from sklearn.svm import SVC\n",
    "def svm(feat_train, feat_test, label_train, label_test):\n",
    "    clf = SVC(gamma=.2)\n",
    "    clf.fit(feat_train, label_train)\n",
    "    predicted_labels = clf.predict(feat_test)\n",
    "    label_test = np.array(label_test)\n",
    "    result = {}\n",
    "    result['recall'] = recall_score(label_test, predicted_labels,\n",
    "                                    average='weighted')\n",
    "    result['accuracy'] = accuracy_score(label_test, predicted_labels)\n",
    "    result['precision'] = precision_score(label_test, predicted_labels,\n",
    "                                          average='weighted')\n",
    "    \n",
    "    target_names = ['Daibetic', 'Normal', 'Pre-Diabetic']\n",
    "    \n",
    "    print(classification_report(label_test, predicted_labels, target_names=target_names))\n",
    "    \n",
    "    cnf_matrix = confusion_matrix(label_test, predicted_labels)\n",
    "    plot_confusion_matrix(cnf_matrix, classes=target_names, title='Confusion matrix, without normalization')\n",
    "    \n",
    "    return result['accuracy'], result['precision'], result['recall']\n",
    "\n",
    "print('SVM')\n",
    "accuracy,precision,recall = svm(x_train, x_test, y_train, y_test)\n",
    "print \"\\n\"\n",
    "print \"Overall Accuracy figures - Biased by Normal as shown above and below by confusion matrix\"\n",
    "print \"Accuracy: \", accuracy\n",
    "print \"Precision: \", precision\n",
    "print \"Recall: \", recall"
   ]
  },
  {
   "cell_type": "code",
   "execution_count": null,
   "metadata": {
    "collapsed": true
   },
   "outputs": [],
   "source": []
  }
 ],
 "metadata": {
  "kernelspec": {
   "display_name": "Python 2",
   "language": "python",
   "name": "python2"
  },
  "language_info": {
   "codemirror_mode": {
    "name": "ipython",
    "version": 2
   },
   "file_extension": ".py",
   "mimetype": "text/x-python",
   "name": "python",
   "nbconvert_exporter": "python",
   "pygments_lexer": "ipython2",
   "version": "2.7.12"
  }
 },
 "nbformat": 4,
 "nbformat_minor": 2
}
