{
 "cells": [
  {
   "cell_type": "code",
   "execution_count": 1,
   "metadata": {
    "collapsed": true,
    "deletable": true,
    "editable": true
   },
   "outputs": [],
   "source": [
    "import tensorflow as tf\n",
    "import csv\n",
    "from sklearn.model_selection import train_test_split\n",
    "from sklearn import preprocessing\n",
    "import numpy as np\n",
    "import pandas as pd\n",
    "from sklearn.metrics import roc_curve, auc\n",
    "import matplotlib.pyplot as plt\n",
    "from sklearn.metrics import f1_score, accuracy_score, precision_score, recall_score\n",
    "from sklearn.metrics import confusion_matrix\n",
    "from sklearn.preprocessing import label_binarize"
   ]
  },
  {
   "cell_type": "code",
   "execution_count": 2,
   "metadata": {
    "collapsed": true,
    "deletable": true,
    "editable": true
   },
   "outputs": [],
   "source": [
    "%matplotlib inline"
   ]
  },
  {
   "cell_type": "markdown",
   "metadata": {
    "deletable": true,
    "editable": true
   },
   "source": [
    "### Reading the CSV file and cleaning\n",
    "\n",
    "feature dataframe has the features read except for the first (seq_num) and the last column (label)\n",
    "The dataframe also drop the Glucose column and replaces all NaN values and 7,9 (in labels) to 0\n",
    "\n",
    "Features were also normalized - (features - features.mean())/features.std()"
   ]
  },
  {
   "cell_type": "code",
   "execution_count": 12,
   "metadata": {
    "collapsed": false,
    "deletable": true,
    "editable": true,
    "scrolled": true
   },
   "outputs": [
    {
     "name": "stdout",
     "output_type": "stream",
     "text": [
      "Cleaned label counts:\n",
      "Diabetes\n",
      "0.0    6987\n",
      "1.0     648\n",
      "dtype: int64\n"
     ]
    }
   ],
   "source": [
    "df = pd.read_csv('../Data/new_nhanes.csv')\n",
    "df = df.iloc[:, 1:]\n",
    "\n",
    "# replace string values with integers\n",
    "df['Gender'] = df['Gender'].map({'female': 1, 'male': 0})\n",
    "df['Diabetes'] = df['Diabetes'].map({'Yes': 1, 'No': 0})\n",
    "\n",
    "# dropping all NaN in the dataframe\n",
    "df = df.dropna(axis=0, how='any')\n",
    "\n",
    "print \"Cleaned label counts:\"\n",
    "print df.groupby('Diabetes').size()\n",
    "\n",
    "#separating features and labels\n",
    "features = df.iloc[:, 0:-1]\n",
    "label = df.iloc[:,-1]\n",
    "\n",
    "print \"\\n\"\n",
    "print \"Columns in the features\"\n",
    "column_names = list(features)\n",
    "print column_names\n",
    "# #normalizing features - unnormalized also results in similar results\n",
    "# normalized_features = (features - features.mean())/features.std()"
   ]
  },
  {
   "cell_type": "markdown",
   "metadata": {
    "deletable": true,
    "editable": true
   },
   "source": [
    "### Formatting input for Machine Learning"
   ]
  },
  {
   "cell_type": "code",
   "execution_count": 13,
   "metadata": {
    "collapsed": false,
    "deletable": true,
    "editable": true
   },
   "outputs": [
    {
     "name": "stdout",
     "output_type": "stream",
     "text": [
      "Shape of the matrices\n",
      "(7635, 8)\n",
      "(7635,)\n",
      "\n",
      "\n",
      "Total unique counts by labels\n",
      "(array([ 0.,  1.]), array([6987,  648]))\n",
      "\n",
      "\n",
      "Total unique counts by labels for training and testing\n",
      "(5344, 'train sequences')\n",
      "(2291, 'test sequences')\n",
      "(array([ 0.,  1.]), array([4891,  453]))\n",
      "(array([ 0.,  1.]), array([2096,  195]))\n"
     ]
    }
   ],
   "source": [
    "X = features.as_matrix()\n",
    "# X = normalized_features.as_matrix()\n",
    "\n",
    "Y = label.as_matrix()\n",
    "\n",
    "print \"Shape of the matrices\"\n",
    "print X.shape\n",
    "print Y.shape\n",
    "\n",
    "print \"\\n\"\n",
    "print \"Total unique counts by labels\"\n",
    "print np.unique(Y, return_counts=True)\n",
    "\n",
    "# Y = label_binarize(Y, classes=[1, 2, 3])\n",
    "\n",
    "# 70% training and 30% test \n",
    "x_train, x_test, y_train, y_test = train_test_split(X, Y, test_size=0.3, random_state=42)\n",
    "\n",
    "print \"\\n\"\n",
    "print \"Total unique counts by labels for training and testing\"\n",
    "print(len(x_train), 'train sequences')\n",
    "print(len(x_test), 'test sequences')\n",
    "\n",
    "print np.unique(y_train, return_counts=True)\n",
    "print np.unique(y_test, return_counts=True)"
   ]
  },
  {
   "cell_type": "markdown",
   "metadata": {
    "deletable": true,
    "editable": true
   },
   "source": [
    "#### Comparision with Decision Trees and Random Forest \n",
    "RF number of trees - 50\n"
   ]
  },
  {
   "cell_type": "code",
   "execution_count": 15,
   "metadata": {
    "collapsed": false,
    "deletable": true,
    "editable": true
   },
   "outputs": [
    {
     "name": "stdout",
     "output_type": "stream",
     "text": [
      "Decision Tree\n",
      "             precision    recall  f1-score   support\n",
      "\n",
      "   Daibetic       0.96      0.96      0.96      2096\n",
      "     Normal       0.54      0.56      0.55       195\n",
      "\n",
      "avg / total       0.92      0.92      0.92      2291\n",
      "\n",
      "Confusion matrix, without normalization\n",
      "[[2004   92]\n",
      " [  85  110]]\n",
      "\n",
      "\n",
      "Overall Accuracy figures - Biased by Normal as shown above and below by confusion matrix\n",
      "Accuracy:  0.922741161065\n",
      "Precision:  0.924008421448\n",
      "Recall:  0.922741161065\n"
     ]
    },
    {
     "data": {
      "image/png": "[encoded data removed]",
      "text/plain": [
       "<matplotlib.figure.Figure at 0x1389b1a90>"
      ]
     },
     "metadata": {},
     "output_type": "display_data"
    }
   ],
   "source": [
    "import itertools\n",
    "from sklearn import tree, linear_model\n",
    "from sklearn.ensemble import RandomForestClassifier\n",
    "from sklearn.metrics import classification_report\n",
    "# These are the tuned paramters\n",
    "\n",
    "def plot_confusion_matrix(cm, classes,\n",
    "                          normalize=False,\n",
    "                          title='Confusion matrix',\n",
    "                          cmap=plt.cm.Blues):\n",
    "    \"\"\"\n",
    "    This function prints and plots the confusion matrix.\n",
    "    Normalization can be applied by setting `normalize=True`.\n",
    "    \"\"\"\n",
    "    plt.imshow(cm, interpolation='nearest', cmap=cmap)\n",
    "    plt.title(title)\n",
    "    plt.colorbar()\n",
    "    tick_marks = np.arange(len(classes))\n",
    "    plt.xticks(tick_marks, classes, rotation=45)\n",
    "    plt.yticks(tick_marks, classes)\n",
    "\n",
    "    if normalize:\n",
    "        cm = cm.astype('float') / cm.sum(axis=1)[:, np.newaxis]\n",
    "        print(\"Normalized confusion matrix\")\n",
    "    else:\n",
    "        print('Confusion matrix, without normalization')\n",
    "\n",
    "    print(cm)\n",
    "\n",
    "    thresh = cm.max() / 2.\n",
    "    for i, j in itertools.product(range(cm.shape[0]), range(cm.shape[1])):\n",
    "        plt.text(j, i, cm[i, j],\n",
    "                 horizontalalignment=\"center\",\n",
    "                 color=\"white\" if cm[i, j] > thresh else \"black\")\n",
    "\n",
    "    plt.tight_layout()\n",
    "    plt.ylabel('True label')\n",
    "    plt.xlabel('Predicted label')\n",
    "\n",
    "def decision_tree(feat_train, feat_test, label_train, label_test):\n",
    "    clf = tree.DecisionTreeClassifier(class_weight=None,\n",
    "                                      criterion='gini', splitter='best')\n",
    "    clf.fit(feat_train, label_train)\n",
    "    predicted_labels = clf.predict(feat_test)\n",
    "    label_test = np.array(label_test)\n",
    "    result = {}\n",
    "    result['recall'] = recall_score(label_test, predicted_labels,\n",
    "                                    average='weighted')\n",
    "    result['accuracy'] = accuracy_score(label_test, predicted_labels)\n",
    "    result['precision'] = precision_score(label_test, predicted_labels,\n",
    "                                          average='weighted')\n",
    "    \n",
    "    target_names = ['Daibetic', 'Normal']\n",
    "    \n",
    "    print(classification_report(label_test, predicted_labels, target_names=target_names))\n",
    "    \n",
    "    cnf_matrix = confusion_matrix(label_test, predicted_labels)\n",
    "    plot_confusion_matrix(cnf_matrix, classes=target_names, title='Confusion matrix, without normalization')\n",
    "    \n",
    "    return result['accuracy'], result['precision'], result['recall']\n",
    "\n",
    "print('Decision Tree')\n",
    "accuracy,precision,recall = decision_tree(x_train, x_test, y_train, y_test)\n",
    "print \"\\n\"\n",
    "print \"Overall Accuracy figures - Biased by Normal as shown above and below by confusion matrix\"\n",
    "print \"Accuracy: \", accuracy\n",
    "print \"Precision: \", precision\n",
    "print \"Recall: \", recall\n"
   ]
  },
  {
   "cell_type": "code",
   "execution_count": 16,
   "metadata": {
    "collapsed": false,
    "deletable": true,
    "editable": true
   },
   "outputs": [],
   "source": [
    "def random_forest(feat_train, feat_test, label_train, label_test, num_estimators):\n",
    "    clf = RandomForestClassifier(n_estimators=num_estimators, max_features=None)\n",
    "\n",
    "    clf.fit(feat_train, label_train)\n",
    "    predicted_labels = clf.predict(feat_test)\n",
    "    label_test = np.array(label_test)\n",
    "    result = {}\n",
    "    result['recall'] = recall_score(label_test, predicted_labels,\n",
    "                                    average='weighted')\n",
    "    result['accuracy'] = accuracy_score(label_test, predicted_labels)\n",
    "    result['precision'] = precision_score(label_test, predicted_labels,\n",
    "                                          average='weighted')\n",
    "    target_names = ['Daibetic', 'Normal']\n",
    "    \n",
    "    print(classification_report(label_test, predicted_labels, target_names=target_names))\n",
    "    \n",
    "    cnf_matrix = confusion_matrix(label_test, predicted_labels)\n",
    "    plot_confusion_matrix(cnf_matrix, classes=target_names, title='Confusion matrix, without normalization')\n",
    "    \n",
    "    return result['accuracy'], result['precision'], result['recall']"
   ]
  },
  {
   "cell_type": "markdown",
   "metadata": {
    "deletable": true,
    "editable": true
   },
   "source": [
    "#### Random Forest with 50 trees"
   ]
  },
  {
   "cell_type": "code",
   "execution_count": 17,
   "metadata": {
    "collapsed": false,
    "deletable": true,
    "editable": true
   },
   "outputs": [
    {
     "name": "stdout",
     "output_type": "stream",
     "text": [
      "Random forest\n",
      "             precision    recall  f1-score   support\n",
      "\n",
      "   Daibetic       0.95      0.99      0.97      2096\n",
      "     Normal       0.78      0.50      0.61       195\n",
      "\n",
      "avg / total       0.94      0.95      0.94      2291\n",
      "\n",
      "Confusion matrix, without normalization\n",
      "[[2069   27]\n",
      " [  98   97]]\n",
      "\n",
      "\n",
      "Overall Accuracy figures - Biased by Normal as shown above and below by confusion matrix\n",
      "Accuracy:  0.945438673069\n",
      "Precision:  0.940092192585\n",
      "Recall:  0.945438673069\n"
     ]
    },
    {
     "data": {
      "image/png": "[encoded data removed]",
      "text/plain": [
       "<matplotlib.figure.Figure at 0x1384f4850>"
      ]
     },
     "metadata": {},
     "output_type": "display_data"
    }
   ],
   "source": [
    "print(\"Random forest\")\n",
    "accuracy,precision,recall = random_forest(x_train, x_test, y_train, y_test, 50)\n",
    "print \"\\n\"\n",
    "print \"Overall Accuracy figures - Biased by Normal as shown above and below by confusion matrix\"\n",
    "print \"Accuracy: \", accuracy\n",
    "print \"Precision: \", precision\n",
    "print \"Recall: \", recall"
   ]
  },
  {
   "cell_type": "markdown",
   "metadata": {
    "deletable": true,
    "editable": true
   },
   "source": [
    "#### Random Forest with 500 trees"
   ]
  },
  {
   "cell_type": "code",
   "execution_count": 18,
   "metadata": {
    "collapsed": false,
    "deletable": true,
    "editable": true
   },
   "outputs": [
    {
     "name": "stdout",
     "output_type": "stream",
     "text": [
      "Random forest\n",
      "             precision    recall  f1-score   support\n",
      "\n",
      "   Daibetic       0.96      0.99      0.97      2096\n",
      "     Normal       0.82      0.51      0.63       195\n",
      "\n",
      "avg / total       0.94      0.95      0.94      2291\n",
      "\n",
      "Confusion matrix, without normalization\n",
      "[[2074   22]\n",
      " [  96   99]]\n",
      "\n",
      "\n",
      "Overall Accuracy figures - Biased by Normal as shown above and below by confusion matrix\n",
      "Accuracy:  0.948494107377\n",
      "Precision:  0.94405027816\n",
      "Recall:  0.948494107377\n"
     ]
    },
    {
     "data": {
      "image/png": "[encoded data removed]",
      "text/plain": [
       "<matplotlib.figure.Figure at 0x138491f10>"
      ]
     },
     "metadata": {},
     "output_type": "display_data"
    }
   ],
   "source": [
    "print(\"Random forest\")\n",
    "accuracy,precision,recall = random_forest(x_train, x_test, y_train, y_test, 500)\n",
    "print \"\\n\"\n",
    "print \"Overall Accuracy figures - Biased by Normal as shown above and below by confusion matrix\"\n",
    "print \"Accuracy: \", accuracy\n",
    "print \"Precision: \", precision\n",
    "print \"Recall: \", recall"
   ]
  },
  {
   "cell_type": "markdown",
   "metadata": {
    "deletable": true,
    "editable": true
   },
   "source": [
    "#### Random Forest with 1000 trees"
   ]
  },
  {
   "cell_type": "code",
   "execution_count": 19,
   "metadata": {
    "collapsed": false,
    "deletable": true,
    "editable": true
   },
   "outputs": [
    {
     "name": "stdout",
     "output_type": "stream",
     "text": [
      "Random forest\n",
      "             precision    recall  f1-score   support\n",
      "\n",
      "   Daibetic       0.96      0.99      0.97      2096\n",
      "     Normal       0.81      0.51      0.62       195\n",
      "\n",
      "avg / total       0.94      0.95      0.94      2291\n",
      "\n",
      "Confusion matrix, without normalization\n",
      "[[2073   23]\n",
      " [  96   99]]\n",
      "\n",
      "\n",
      "Overall Accuracy figures - Biased by Normal as shown above and below by confusion matrix\n",
      "Accuracy:  0.948057616761\n",
      "Precision:  0.943460797441\n",
      "Recall:  0.948057616761\n"
     ]
    },
    {
     "data": {
      "image/png": "[encoded data removed]",
      "text/plain": [
       "<matplotlib.figure.Figure at 0x138006d50>"
      ]
     },
     "metadata": {},
     "output_type": "display_data"
    }
   ],
   "source": [
    "print(\"Random forest\")\n",
    "accuracy,precision,recall = random_forest(x_train, x_test, y_train, y_test, 1000)\n",
    "print \"\\n\"\n",
    "print \"Overall Accuracy figures - Biased by Normal as shown above and below by confusion matrix\"\n",
    "print \"Accuracy: \", accuracy\n",
    "print \"Precision: \", precision\n",
    "print \"Recall: \", recall"
   ]
  },
  {
   "cell_type": "markdown",
   "metadata": {
    "deletable": true,
    "editable": true
   },
   "source": [
    "#### Random Forest with 10000 trees"
   ]
  },
  {
   "cell_type": "code",
   "execution_count": 20,
   "metadata": {
    "collapsed": false,
    "deletable": true,
    "editable": true
   },
   "outputs": [
    {
     "name": "stdout",
     "output_type": "stream",
     "text": [
      "Random forest\n",
      "             precision    recall  f1-score   support\n",
      "\n",
      "   Daibetic       0.96      0.99      0.97      2096\n",
      "     Normal       0.81      0.51      0.62       195\n",
      "\n",
      "avg / total       0.94      0.95      0.94      2291\n",
      "\n",
      "Confusion matrix, without normalization\n",
      "[[2073   23]\n",
      " [  96   99]]\n",
      "\n",
      "\n",
      "Overall Accuracy figures - Biased by Normal as shown above and below by confusion matrix\n",
      "Accuracy:  0.948057616761\n",
      "Precision:  0.943460797441\n",
      "Recall:  0.948057616761\n"
     ]
    },
    {
     "data": {
      "image/png": "[encoded data removed]",
      "text/plain": [
       "<matplotlib.figure.Figure at 0x138e9cad0>"
      ]
     },
     "metadata": {},
     "output_type": "display_data"
    }
   ],
   "source": [
    "print(\"Random forest\")\n",
    "accuracy,precision,recall = random_forest(x_train, x_test, y_train, y_test, 10000)\n",
    "print \"\\n\"\n",
    "print \"Overall Accuracy figures - Biased by Normal as shown above and below by confusion matrix\"\n",
    "print \"Accuracy: \", accuracy\n",
    "print \"Precision: \", precision\n",
    "print \"Recall: \", recall"
   ]
  },
  {
   "cell_type": "code",
   "execution_count": 21,
   "metadata": {
    "collapsed": false,
    "deletable": true,
    "editable": true
   },
   "outputs": [
    {
     "name": "stdout",
     "output_type": "stream",
     "text": [
      "Logistic Regression\n",
      "              precision    recall  f1-score   support\n",
      "\n",
      "    Daibetic       0.92      0.99      0.96      2096\n",
      "      Normal       0.56      0.07      0.13       195\n",
      "\n",
      " avg / total       0.89      0.92      0.89      2291\n",
      "\n",
      "Confusion matrix, without normalization\n",
      "[[2085   11]\n",
      " [ 181   14]]\n",
      "\n",
      "\n",
      "Overall Accuracy figures - Biased by Normal as shown above and below by confusion matrix\n",
      "Accuracy:  0.916193801833\n",
      "Precision:  0.889471407168\n",
      "Recall:  0.916193801833\n"
     ]
    },
    {
     "data": {
      "image/png": "[encoded data removed]",
      "text/plain": [
       "<matplotlib.figure.Figure at 0x13920e490>"
      ]
     },
     "metadata": {},
     "output_type": "display_data"
    }
   ],
   "source": [
    "def log_reg(feat_train, feat_test, label_train, label_test):\n",
    "    clf = linear_model.LogisticRegression()\n",
    "    clf.fit(feat_train, label_train)\n",
    "    predicted_labels = clf.predict(feat_test)\n",
    "    label_test = np.array(label_test)\n",
    "    result = {}\n",
    "    result['recall'] = recall_score(label_test, predicted_labels,\n",
    "                                    average='weighted')\n",
    "    result['accuracy'] = accuracy_score(label_test, predicted_labels)\n",
    "    result['precision'] = precision_score(label_test, predicted_labels,\n",
    "                                          average='weighted')\n",
    "    \n",
    "    target_names = ['Daibetic', 'Normal', 'Pre-Diabetic']\n",
    "    \n",
    "    print(classification_report(label_test, predicted_labels, target_names=target_names))\n",
    "    \n",
    "    cnf_matrix = confusion_matrix(label_test, predicted_labels)\n",
    "    plot_confusion_matrix(cnf_matrix, classes=target_names, title='Confusion matrix, without normalization')\n",
    "    \n",
    "    return result['accuracy'], result['precision'], result['recall']\n",
    "\n",
    "print('Logistic Regression')\n",
    "accuracy,precision,recall = log_reg(x_train, x_test, y_train, y_test)\n",
    "print \"\\n\"\n",
    "print \"Overall Accuracy figures - Biased by Normal as shown above and below by confusion matrix\"\n",
    "print \"Accuracy: \", accuracy\n",
    "print \"Precision: \", precision\n",
    "print \"Recall: \", recall\n"
   ]
  },
  {
   "cell_type": "code",
   "execution_count": 22,
   "metadata": {
    "collapsed": false,
    "deletable": true,
    "editable": true
   },
   "outputs": [
    {
     "name": "stdout",
     "output_type": "stream",
     "text": [
      "SVM\n",
      "              precision    recall  f1-score   support\n",
      "\n",
      "    Daibetic       0.95      1.00      0.97      2096\n",
      "      Normal       1.00      0.38      0.56       195\n",
      "\n",
      " avg / total       0.95      0.95      0.94      2291\n",
      "\n",
      "Confusion matrix, without normalization\n",
      "[[2096    0]\n",
      " [ 120   75]]\n",
      "\n",
      "\n",
      "Overall Accuracy figures - Biased by Normal as shown above and below by confusion matrix\n",
      "Accuracy:  0.947621126146\n",
      "Precision:  0.950457527257\n",
      "Recall:  0.947621126146\n"
     ]
    },
    {
     "data": {
      "image/png": "[encoded data removed]",
      "text/plain": [
       "<matplotlib.figure.Figure at 0x137fd7550>"
      ]
     },
     "metadata": {},
     "output_type": "display_data"
    }
   ],
   "source": [
    "from sklearn.svm import SVC\n",
    "def svm(feat_train, feat_test, label_train, label_test):\n",
    "    clf = SVC(gamma=.2)\n",
    "    clf.fit(feat_train, label_train)\n",
    "    predicted_labels = clf.predict(feat_test)\n",
    "    label_test = np.array(label_test)\n",
    "    result = {}\n",
    "    result['recall'] = recall_score(label_test, predicted_labels,\n",
    "                                    average='weighted')\n",
    "    result['accuracy'] = accuracy_score(label_test, predicted_labels)\n",
    "    result['precision'] = precision_score(label_test, predicted_labels,\n",
    "                                          average='weighted')\n",
    "    \n",
    "    target_names = ['Daibetic', 'Normal', 'Pre-Diabetic']\n",
    "    \n",
    "    print(classification_report(label_test, predicted_labels, target_names=target_names))\n",
    "    \n",
    "    cnf_matrix = confusion_matrix(label_test, predicted_labels)\n",
    "    plot_confusion_matrix(cnf_matrix, classes=target_names, title='Confusion matrix, without normalization')\n",
    "    \n",
    "    return result['accuracy'], result['precision'], result['recall']\n",
    "\n",
    "print('SVM')\n",
    "accuracy,precision,recall = svm(x_train, x_test, y_train, y_test)\n",
    "print \"\\n\"\n",
    "print \"Overall Accuracy figures - Biased by Normal as shown above and below by confusion matrix\"\n",
    "print \"Accuracy: \", accuracy\n",
    "print \"Precision: \", precision\n",
    "print \"Recall: \", recall"
   ]
  }
 ],
 "metadata": {
  "kernelspec": {
   "display_name": "Python 2",
   "language": "python",
   "name": "python2"
  },
  "language_info": {
   "codemirror_mode": {
    "name": "ipython",
    "version": 2
   },
   "file_extension": ".py",
   "mimetype": "text/x-python",
   "name": "python",
   "nbconvert_exporter": "python",
   "pygments_lexer": "ipython2",
   "version": "2.7.10"
  }
 },
 "nbformat": 4,
 "nbformat_minor": 2
}
